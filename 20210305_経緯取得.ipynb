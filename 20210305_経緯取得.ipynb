{
 "cells": [
  {
   "cell_type": "code",
   "execution_count": 1,
   "metadata": {},
   "outputs": [],
   "source": [
    "import requests\n",
    "from bs4 import BeautifulSoup\n",
    "import time\n",
    "from tqdm import tqdm\n",
    "\n",
    "\n",
    "def get_lat_lon_from_address(address_l):\n",
    "    \"\"\"\n",
    "    address_lにlistの形で住所を入れてあげると、latlonsという入れ子上のリストで緯度経度のリストを返す関数。\n",
    "    >>>>get_lat_lon_from_address(['東京都文京区本郷7-3-1','東京都文京区湯島３丁目３０−１'])\n",
    "    [['35.712056', '139.762775'], ['35.707771', '139.768205']]\n",
    "    \"\"\"\n",
    "    url = 'http://www.geocoding.jp/api/'\n",
    "    latlons = []\n",
    "    for address in tqdm(address_l):\n",
    "        payload = {\"v\": 1.1, 'q': address}\n",
    "        r = requests.get(url, params=payload)\n",
    "        ret = BeautifulSoup(r.content,'lxml')\n",
    "        if ret.find('error'):\n",
    "            raise ValueError(f\"Invalid address submitted. {address}\")\n",
    "        else:\n",
    "            lat = ret.find('lat').string\n",
    "            lon = ret.find('lng').string\n",
    "            latlons.append([lat,lon])\n",
    "            time.sleep(10)\n",
    "    return latlons"
   ]
  },
  {
   "cell_type": "code",
   "execution_count": 2,
   "metadata": {},
   "outputs": [
    {
     "name": "stderr",
     "output_type": "stream",
     "text": [
      "100%|████████████████████████████████████████████████████████████████████████████████████| 2/2 [00:25<00:00, 12.80s/it]\n"
     ]
    },
    {
     "data": {
      "text/plain": [
       "[['35.714163', '139.762102'], ['35.707849', '139.767824']]"
      ]
     },
     "execution_count": 2,
     "metadata": {},
     "output_type": "execute_result"
    }
   ],
   "source": [
    "get_lat_lon_from_address(['東京都文京区本郷7-3-1','東京都文京区湯島３丁目３０−１'])"
   ]
  },
  {
   "cell_type": "code",
   "execution_count": 7,
   "metadata": {},
   "outputs": [
    {
     "data": {
      "text/plain": [
       "<?xml version=\"1.0\" encoding=\"UTF-8\" ?><html><body><result>\n",
       "<version>1.1</version>\n",
       "<address>東京都文京区本郷7-3-1</address>\n",
       "<coordinate>\n",
       "<lat>35.714163</lat>\n",
       "<lng>139.762102</lng>\n",
       "<lat_dms>35,42,50.987</lat_dms>\n",
       "<lng_dms>139,45,43.568</lng_dms>\n",
       "</coordinate>\n",
       "<url>https://www.geocoding.jp/?q=%E6%9D%B1%E4%BA%AC%E9%83%BD%E6%96%87%E4%BA%AC%E5%8C%BA%E6%9C%AC%E9%83%B77-3-1</url>\n",
       "<needs_to_verify>yes</needs_to_verify>\n",
       "<google_maps>工2号館、東京都文京区本郷７丁目３−１</google_maps>\n",
       "</result>\n",
       "</body></html>"
      ]
     },
     "execution_count": 7,
     "metadata": {},
     "output_type": "execute_result"
    }
   ],
   "source": [
    "url = 'http://www.geocoding.jp/api/'\n",
    "BeautifulSoup(requests.get(url, params={\"v\": 1.1, 'q': \"東京都文京区本郷7-3-1\"}).content,'lxml')"
   ]
  },
  {
   "cell_type": "code",
   "execution_count": null,
   "metadata": {},
   "outputs": [],
   "source": []
  }
 ],
 "metadata": {
  "kernelspec": {
   "display_name": "Python 3",
   "language": "python",
   "name": "python3"
  },
  "language_info": {
   "codemirror_mode": {
    "name": "ipython",
    "version": 3
   },
   "file_extension": ".py",
   "mimetype": "text/x-python",
   "name": "python",
   "nbconvert_exporter": "python",
   "pygments_lexer": "ipython3",
   "version": "3.7.3"
  }
 },
 "nbformat": 4,
 "nbformat_minor": 2
}
