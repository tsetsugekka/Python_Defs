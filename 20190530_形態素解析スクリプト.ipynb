{
 "cells": [
  {
   "cell_type": "code",
   "execution_count": 1,
   "metadata": {
    "scrolled": true
   },
   "outputs": [
    {
     "data": {
      "text/plain": [
       "['詰る・断水', ['出る'], '専有部', ['バルブ']]"
      ]
     },
     "execution_count": 1,
     "metadata": {},
     "output_type": "execute_result"
    }
   ],
   "source": [
    "import sys\n",
    "import MeCab\n",
    "\n",
    "def mecab_list(text):\n",
    "    #https://qiita.com/menon/items/2b5ad487a98882289567\n",
    "    tagger = MeCab.Tagger()\n",
    "    tagger.parse('')\n",
    "    node = tagger.parseToNode(text)\n",
    "    word_class = []\n",
    "    while node:\n",
    "        word = node.surface\n",
    "        wclass = node.feature.split(',')\n",
    "        if wclass[0] != u'BOS/EOS':\n",
    "            if wclass[6] == None:\n",
    "                #word_class.append((word,wclass[0],wclass[1],wclass[5],\"\"))\n",
    "                word_class.append(word)\n",
    "            else:\n",
    "                #word_class.append((word,wclass[0],wclass[1],wclass[5],wclass[6]))\n",
    "                word_class.append(wclass[6])\n",
    "        node = node.next\n",
    "    return word_class\n",
    "\n",
    "\n",
    "#mecabrc: (デフォルト)\n",
    "#-Ochasen: (ChaSen 互換形式)\n",
    "#-Owakati: (分かち書きのみを出力)\n",
    "#-Oyomi: (読みのみを出力)\n",
    "#\n",
    "#NEologd 辞書 を Windows 用 MeCab に導入して Python で使う方法\n",
    "#https://qiita.com/ChenZheChina/items/42f1fcc763e88cb02cca\n",
    "#\"-d ..\\dic\\ipadic-neologd\" neologd搭載\n",
    "\n",
    "def diff(listA,listB):\n",
    "    #積集合\n",
    "    retB = list(set(listA).intersection(set(listB)))\n",
    "    return retB\n",
    "\n",
    "def mining(text):\n",
    "    wordlist=mecab_list(text)\n",
    "    #辞書定義\n",
    "    leakage=[\"水漏れ\",[\"漏水\",\"水漏れ\",\"溢れる\",\"流れる\"]]\n",
    "    outage=[\"詰る・断水\",[\"詰る\",\"断水\",\"出る\"]]\n",
    "    public=[\"共有部\",[\"共有\",\"EV\",\"エレベーター\",\"ポスト\",\"駐車場\",\"駐輪場\",\"通路\",\"廊下\",\"エントランス\",\"ベランダ\",\"バルコニー\",\"屋上\",\"メーター\"]]\n",
    "    private=[\"専有部\",[\"専有\",\"キッチン\",\"洗面台\",\"トイレ\",\"温水器\",\"浴室\",\"天井\",\"室内\",\"玄関\",\"照明\",\"バルブ\"]]\n",
    "    #出力結果\n",
    "    detail=[\"\",\"\",\"\",\"\"]\n",
    "    #診断項目①　水漏れまたは詰り\n",
    "    isleak=diff(wordlist,leakage[1])\n",
    "    isout=diff(wordlist,outage[1])\n",
    "    if isleak !=[] and isout !=[]:\n",
    "        detail[0]=leakage[0]+\"/\"+outage[0]\n",
    "        detail[1]=[isleak,isout]\n",
    "    elif isleak !=[]:\n",
    "        detail[0]=leakage[0]\n",
    "        detail[1]=isleak\n",
    "    elif isout !=[]:\n",
    "        detail[0]=outage[0]\n",
    "        detail[1]=isout\n",
    "    else:\n",
    "        pass\n",
    "    #診断項目②　共有部または専有部\n",
    "    ispublic=diff(wordlist,public[1])\n",
    "    isprivate=diff(wordlist,private[1])\n",
    "    if ispublic !=[] and isprivate !=[]:\n",
    "        detail[2]=public[0]+\"/\"+private[0]\n",
    "        detail[3]=[ispublic,isprivate]\n",
    "    elif ispublic !=[]:\n",
    "        detail[2]=public[0]\n",
    "        detail[3]=ispublic\n",
    "    elif isprivate !=[]:\n",
    "        detail[2]=private[0]\n",
    "        detail[3]=isprivate\n",
    "    else:\n",
    "        pass\n",
    "    \n",
    "    return detail\n",
    "\n",
    "test=\"給湯バルブ閉めているのは了解しているが水も出ないとの連絡あり\"\n",
    "\n",
    "mining(test)"
   ]
  },
  {
   "cell_type": "code",
   "execution_count": 2,
   "metadata": {},
   "outputs": [
    {
     "data": {
      "text/plain": [
       "[('給湯', '名詞', '一般', '*', '*', '給湯'),\n",
       " ('バルブ', '名詞', '一般', '*', '*', 'バルブ'),\n",
       " ('閉め', '動詞', '自立', '一段', '連用形', '閉める'),\n",
       " ('て', '助詞', '接続助詞', '*', '*', 'て'),\n",
       " ('いる', '動詞', '非自立', '一段', '基本形', 'いる'),\n",
       " ('の', '名詞', '非自立', '*', '*', 'の'),\n",
       " ('は', '助詞', '係助詞', '*', '*', 'は'),\n",
       " ('了解', '名詞', 'サ変接続', '*', '*', '了解'),\n",
       " ('し', '動詞', '自立', 'サ変・スル', '連用形', 'する'),\n",
       " ('て', '助詞', '接続助詞', '*', '*', 'て'),\n",
       " ('いる', '動詞', '非自立', '一段', '基本形', 'いる'),\n",
       " ('が', '助詞', '接続助詞', '*', '*', 'が'),\n",
       " ('水', '名詞', '一般', '*', '*', '水'),\n",
       " ('も', '助詞', '係助詞', '*', '*', 'も'),\n",
       " ('出', '動詞', '自立', '一段', '連用形', '出る'),\n",
       " ('て', '助詞', '接続助詞', '*', '*', 'て'),\n",
       " ('い', '動詞', '非自立', '一段', '未然形', 'いる'),\n",
       " ('ない', '助動詞', '*', '特殊・ナイ', '基本形', 'ない'),\n",
       " ('と', '助詞', '格助詞', '*', '*', 'と'),\n",
       " ('の', '助詞', '連体化', '*', '*', 'の'),\n",
       " ('連絡', '名詞', 'サ変接続', '*', '*', '連絡'),\n",
       " ('あり', '動詞', '自立', '五段・ラ行', '連用形', 'ある')]"
      ]
     },
     "execution_count": 2,
     "metadata": {},
     "output_type": "execute_result"
    }
   ],
   "source": [
    "def mecab_list(text):\n",
    "    #https://qiita.com/menon/items/2b5ad487a98882289567\n",
    "    tagger = MeCab.Tagger()\n",
    "    tagger.parse('')\n",
    "    node = tagger.parseToNode(text)\n",
    "    word_class = []\n",
    "    while node:\n",
    "        word = node.surface\n",
    "        wclass = node.feature.split(',')\n",
    "        if wclass[0] != u'BOS/EOS':\n",
    "            if wclass[6] == None:\n",
    "                word_class.append((word,wclass[0],wclass[1],wclass[5],\"\"))\n",
    "                #word_class.append(word)\n",
    "            else:\n",
    "                word_class.append((word,wclass[0],wclass[1],wclass[4],wclass[5],wclass[6]))\n",
    "                #word_class.append(wclass[6])\n",
    "        node = node.next\n",
    "    return word_class\n",
    "\n",
    "wordlist=mecab_list(\"給湯バルブ閉めているのは了解しているが水も出ていないとの連絡あり\")\n",
    "wordlist"
   ]
  },
  {
   "cell_type": "code",
   "execution_count": 12,
   "metadata": {},
   "outputs": [
    {
     "data": {
      "text/plain": [
       "dict_keys(['分かる', 'て', 'いる', 'か', 'どう', 'わかる', 'ない', 'から'])"
      ]
     },
     "execution_count": 12,
     "metadata": {},
     "output_type": "execute_result"
    }
   ],
   "source": [
    "def mecab_list(text):\n",
    "    #https://qiita.com/menon/items/2b5ad487a98882289567\n",
    "    tagger = MeCab.Tagger()\n",
    "    tagger.parse('')\n",
    "    node = tagger.parseToNode(text)\n",
    "    word_class = {}\n",
    "    while node:\n",
    "        word = node.surface\n",
    "        wclass = node.feature.split(',')\n",
    "        if wclass[0] != u'BOS/EOS':\n",
    "            if wclass[6] == None:\n",
    "                #word_class.append((word,wclass[0],wclass[1],wclass[5],\"\"))\n",
    "                word_class[word]=word\n",
    "            else:\n",
    "                #word_class.append((word,wclass[0],wclass[1],wclass[5],wclass[6]))\n",
    "                #word_class.append(wclass[6])\n",
    "                word_class[wclass[6]]=word\n",
    "        node = node.next\n",
    "    return word_class\n",
    "\n",
    "\n",
    "d=mecab_list(\"分かっているかどうかわからないからわかっていない\")\n",
    "list(d.keys()&[\"分かる\"])\n",
    "\n",
    "d.keys()"
   ]
  },
  {
   "cell_type": "code",
   "execution_count": 7,
   "metadata": {},
   "outputs": [
    {
     "name": "stdout",
     "output_type": "stream",
     "text": [
      "タグ名を入力してください。入力終了したい時は「done」を入力してください。プロダクトマネジャー\n",
      "タグ名を入力してください。入力終了したい時は「done」を入力してください。プロジェクトマネージャー\n",
      "タグ名を入力してください。入力終了したい時は「done」を入力してください。アルゴリズムエンジニア\n",
      "タグ名を入力してください。入力終了したい時は「done」を入力してください。done\n"
     ]
    }
   ],
   "source": [
    "#カテゴリー用コーディングシートの作成\n",
    "def sheetmaker():\n",
    "    cate=[]\n",
    "    while True:\n",
    "        classname=input(\"タグ名を入力してください。入力終了したい時は「done」を入力してください。\")\n",
    "        if classname==\"done\":\n",
    "            break\n",
    "        else:\n",
    "            classlist=classname.split(\" \")\n",
    "            for c in classlist:\n",
    "                cate.append(c)\n",
    "    return cate\n",
    "\n",
    "category=sheetmaker()"
   ]
  },
  {
   "cell_type": "code",
   "execution_count": 8,
   "metadata": {},
   "outputs": [
    {
     "data": {
      "text/plain": [
       "['プロダクトマネジャー', 'プロジェクトマネージャー', 'アルゴリズムエンジニア']"
      ]
     },
     "execution_count": 8,
     "metadata": {},
     "output_type": "execute_result"
    }
   ],
   "source": [
    "category"
   ]
  },
  {
   "cell_type": "code",
   "execution_count": null,
   "metadata": {},
   "outputs": [],
   "source": []
  }
 ],
 "metadata": {
  "kernelspec": {
   "display_name": "Python 3",
   "language": "python",
   "name": "python3"
  },
  "language_info": {
   "codemirror_mode": {
    "name": "ipython",
    "version": 3
   },
   "file_extension": ".py",
   "mimetype": "text/x-python",
   "name": "python",
   "nbconvert_exporter": "python",
   "pygments_lexer": "ipython3",
   "version": "3.7.3"
  }
 },
 "nbformat": 4,
 "nbformat_minor": 2
}
